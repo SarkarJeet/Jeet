import numpy as np
import pandas as pd
import matplotlib.pyplot as plt
from pandas import datetime
import math,time
import datetime
import itertools
from sklearn import preprocessing
from operator import itemgetter
from sklearn.metrics import mean_squared_error
from math import sqrt
from keras.models import Sequential
from keras.layers.core import Dense,Dropout,Activation
from keras.layers.recurrent import LSTM

training_set=pd.read_csv('/media/jeet/New Volume/Yelp_Dataset/Google Stock Price/Google_Stock_Price_Train.csv',sep=',')

# Getting just the Open Stock Price for input of our RNN.
# To convert the Vector form of a single column into a Matrix form, we will use 1:2 as the column index. 
# The 2nd column will be ignored and we will get our Open Stock Price Column in a Matrix form.
# Output will be a 2d Numpy array, exactly what we want
training_set=training_set.iloc[:,1:2].values

# Feature Scaling
# Will use Normalisation as the Scaling function.
# Default range for MinMaxScaler is 0 to 1, which is what we want. So no arguments in it.
 # Will fit the training set to it and get it scaled and replace the original set.
from sklearn.preprocessing import MinMaxScaler
sc=MinMaxScaler()
training_set=sc.fit_transform(training_set)

# Getting the inputs and the ouputs
# Restricting the input and output based on how LSTM functions
X_train=training_set[0:1257]
Y_train=training_set[1:1258]

# Reshaping - Adding time interval as a dimension for input.
X_train=np.reshape(X_train,(1257,1,1))

# Building the RNN
# Initialising the RNN
# Creating an object of Sequential class to create the RNN.
regressor=Sequential()

# Adding the input layer and the LSTM layer
# 4 memory units, sigmoid activation function and (None time interval with 1 attribute as input)
regressor.add(LSTM(units=4,activation='sigmoid',input_shape=(None,1)))

# Adding the output layer
# 1 neuron in the output layer for 1 dimensional output
regressor.add(Dense(units=1))

# Compiling the RNN
# Compiling all the layers together.
# Loss helps in manipulation of weights in NN.
regressor.compile(optimizer='adam',loss='mean_squared_error')

#  Fitting the RNN to the Training set
# Number of epochs increased for better convergence.
regressor.fit(X_train,Y_train,batch_size=32,epochs=200)

# Part 3 - Making the predictions and visualising the results

# Getting the real stock price of 2017
test_set=pd.read_csv('/media/jeet/New Volume/Yelp_Dataset/Google Stock Price/Google_Stock_Price_Test.csv',sep=',')
real_stock_price=test_set.iloc[:,1:2].values

# Getting the predicted stock price of 2017
inputs=real_stock_price
inputs=sc.transform(inputs)
inputs=np.reshape(inputs,(20,1,1))
predicted_stock_price=regressor.predict(inputs)
predicted_stock_price=sc.inverse_transform(predicted_stock_price)

# Visualising the results
plt.plot(real_stock_price,color='red',label='Real_Google_stock_price')
plt.plot(predicted_stock_price,color='blue',label='Predicted_stock_Price')
plt.title('Google_stock_price')
plt.xlabel('Time')
plt.ylabel('Google_stock_price')
plt.legend()
plt.show()

# Making predictions for the entire dataset
# Getting the real stock price of 2012 - 2016
real_stock_price_train = pd.read_csv('/media/jeet/New Volume/Yelp_Dataset/Google Stock Price/Google_Stock_Price_Train.csv',sep=',')
real_stock_price_train = real_stock_price_train.iloc[:,1:2].values

# Getting the predicted stock price of 2012 - 2016
predicted_stock_price_train=regressor.predict(X_train)
predicted_stock_price_train=sc.inverse_transform(predicted_stock_price_train)

# Visualising the results
plt.plot(real_stock_price_train, color = 'red', label = 'Real Google Stock Price')
plt.plot(predicted_stock_price_train, color = 'blue', label = 'Predicted Google Stock Price')
plt.title('Google Stock Price Prediction')
plt.xlabel('Time')
plt.ylabel('Google Stock Price')
plt.legend()
plt.show()

# Part 4 - Evaluating the RNN
rmse=math.sqrt(mean_squared_error(real_stock_price,predicted_stock_price))
